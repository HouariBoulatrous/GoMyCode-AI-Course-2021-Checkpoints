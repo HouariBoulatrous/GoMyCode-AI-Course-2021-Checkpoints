{
 "cells": [
  {
   "cell_type": "markdown",
   "id": "fa5b789b",
   "metadata": {},
   "source": [
    "# Data preparation for clustering"
   ]
  },
  {
   "cell_type": "code",
   "execution_count": null,
   "id": "529c8b2e",
   "metadata": {},
   "outputs": [],
   "source": [
    "#importing the necessary libraries\n",
    "import numpy as np\n",
    "import pandas as pd\n",
    "import matplotlib.pyplot as plt\n",
    "%matplotlib inline\n",
    "import seaborn as sns\n"
   ]
  },
  {
   "cell_type": "code",
   "execution_count": null,
   "id": "f9735243",
   "metadata": {},
   "outputs": [],
   "source": [
    "#Loading the Customer Segmentation dataset\n",
    "dataset = pd.read_csv('CC GENERAL.csv')\n",
    "\n",
    "\n"
   ]
  },
  {
   "cell_type": "code",
   "execution_count": null,
   "id": "9e2cbf4f",
   "metadata": {},
   "outputs": [],
   "source": [
    "dataset"
   ]
  },
  {
   "cell_type": "markdown",
   "id": "fba6c1c1",
   "metadata": {},
   "source": [
    "# Data Dictionary for Credit Card dataset"
   ]
  },
  {
   "cell_type": "markdown",
   "id": "ea456c5c",
   "metadata": {},
   "source": [
    "\n",
    "\n",
    "CUST_ID: Identification of Credit Cardholder (Categorical)\n",
    "\n",
    "BALANCE: Balance amount left in their account to make purchases (BALANCE_FREQUENCY : How frequently the Balance is updated, score between 0 and 1 (1 = frequently updated, 0 = not frequently updated) \n",
    "\n",
    "PURCHASES: Amount of purchases made from the account.\n",
    "\n",
    "ONEOFF_PURCHASES: Maximum purchase amount done in one go\n",
    "\n",
    " INSTALLMENTS_PURCHASES: Amount of purchase done in installment\n",
    "\n",
    " CASH_ADVANCE: Cash in advance given by the user\n",
    "\n",
    "PURCHASES_FREQUENCY: How frequently the Purchases are being made, score between 0 and 1 (1 = frequently purchased, 0 = not frequently purchased)\n",
    "\n",
    " ONEOFFPURCHASESFREQUENCY: How frequently Purchases are happening in one go (1 = frequently purchased, 0 = not frequently purchased)\n",
    "\n",
    " PURCHASESINSTALLMENTSFREQUENCY: How frequently purchases in installments are being done (1 = frequently done, 0 = not frequently done)\n",
    "\n",
    "CASHADVANCEFREQUENCY: How frequently the cash in advance is being paid \n",
    "\n",
    "CASHADVANCETRX: Number of Transactions made with \"Cash in Advanced\" PURCHASES_TRX: Number of purchase transactions made\n",
    "\n",
    " CREDIT_LIMIT: Limit of Credit Card for user \n",
    "\n",
    "PAYMENTS: Amount of Payment done by userMINIMUM_PAYMENTS: Minimum amount of payments made by user PRCFULLPAYMENT: Percent of full payment paid by userTENURE: Tenure of credit card service for user"
   ]
  },
  {
   "cell_type": "code",
   "execution_count": null,
   "id": "96df6830",
   "metadata": {
    "scrolled": true
   },
   "outputs": [],
   "source": [
    "dataset.describe()"
   ]
  },
  {
   "cell_type": "code",
   "execution_count": null,
   "id": "28011439",
   "metadata": {},
   "outputs": [],
   "source": [
    "#converting all column names to lower case \n",
    "dataset.columns = dataset.columns.str.lower()"
   ]
  },
  {
   "cell_type": "code",
   "execution_count": null,
   "id": "ab71f628",
   "metadata": {},
   "outputs": [],
   "source": [
    "dataset.info()"
   ]
  },
  {
   "cell_type": "code",
   "execution_count": null,
   "id": "3aa9a485",
   "metadata": {},
   "outputs": [],
   "source": [
    "# printing the columns of our dataset\n",
    "dataset.columns\n",
    "\n"
   ]
  },
  {
   "cell_type": "code",
   "execution_count": null,
   "id": "5e06ccf9",
   "metadata": {},
   "outputs": [],
   "source": [
    "#printing the NANs\n",
    "dataset.isna().sum()\n",
    "\n"
   ]
  },
  {
   "cell_type": "code",
   "execution_count": null,
   "id": "7b74cb0a",
   "metadata": {},
   "outputs": [],
   "source": [
    "# dropping the column with many NANs\n",
    "dataset =dataset.drop(\"minimum_payments\", axis=1)"
   ]
  },
  {
   "cell_type": "code",
   "execution_count": null,
   "id": "d58ca1e7",
   "metadata": {},
   "outputs": [],
   "source": [
    "#removing less useful vraiable for segmentation\n",
    "dataset = dataset.drop(columns=['cust_id',  'purchases', 'cash_advance'], axis = 1)\n",
    "\n"
   ]
  },
  {
   "cell_type": "code",
   "execution_count": null,
   "id": "51712da0",
   "metadata": {},
   "outputs": [],
   "source": [
    "dataset = dataset.dropna(axis = 0)"
   ]
  },
  {
   "cell_type": "code",
   "execution_count": null,
   "id": "d98f7f0c",
   "metadata": {},
   "outputs": [],
   "source": [
    "# printing the columns of our dataset\n",
    "dataset.columns\n"
   ]
  },
  {
   "cell_type": "markdown",
   "id": "cfbc6321",
   "metadata": {},
   "source": [
    "# hierarchical clustering"
   ]
  },
  {
   "cell_type": "code",
   "execution_count": null,
   "id": "3dab0651",
   "metadata": {},
   "outputs": [],
   "source": [
    "from sklearn.cluster import AgglomerativeClustering #Importing our clustering algorithm : Agglomerative\n",
    "model=AgglomerativeClustering(n_clusters=7, affinity='euclidean', linkage='complete') \n",
    "clust_labels=model.fit_predict(dataset)  #Applying agglomerative algorithm with 5 clusters, using euclidean distance as a metric\n",
    "\n"
   ]
  },
  {
   "cell_type": "code",
   "execution_count": null,
   "id": "721abfc3",
   "metadata": {},
   "outputs": [],
   "source": [
    "# Agglomerative label\n",
    "agglomerative=pd.DataFrame(clust_labels)\n",
    "agglomerative"
   ]
  },
  {
   "cell_type": "code",
   "execution_count": null,
   "id": "9f5a3125",
   "metadata": {},
   "outputs": [],
   "source": [
    "# Agglomerative cluster plot\n",
    "\n",
    "fig =plt.figure()\n",
    "ax = fig.add_subplot(111)\n",
    "scatter = ax.scatter (dataset [ \"payments\"] , dataset [\"oneoff_purchases\"] , c= agglomerative[0], s=50)\n",
    "ax.set_title(\"Agglomerative Clutering\")\n",
    "ax.set_xlabel(\"payments\")\n",
    "ax.set_ylabel(\"oneoff_purchases\")\n",
    "plt.colorbar(scatter)"
   ]
  },
  {
   "cell_type": "markdown",
   "id": "202198cd",
   "metadata": {},
   "source": [
    "# Dendrogram Example"
   ]
  },
  {
   "cell_type": "code",
   "execution_count": null,
   "id": "20def5f9",
   "metadata": {},
   "outputs": [],
   "source": [
    "import scipy.cluster.hierarchy as shc\n",
    "plt.figure(figsize=(10,7))\n",
    "plt.title(\"customer segmentation\")\n",
    "dend=shc.dendrogram(shc.linkage(dataset, method=\"complete\"))\n"
   ]
  },
  {
   "cell_type": "markdown",
   "id": "2a4bfb46",
   "metadata": {},
   "source": [
    "# K-means "
   ]
  },
  {
   "cell_type": "code",
   "execution_count": null,
   "id": "c7b0533d",
   "metadata": {},
   "outputs": [],
   "source": [
    "from sklearn.cluster import KMeans  #Importing our clustering algorithm: KMeans\n",
    "kmeans=KMeans(n_clusters=8, random_state=0)  #Cluster our data by choosing 5 as number of clusters\n",
    "kmeans.fit(dataset)"
   ]
  },
  {
   "cell_type": "code",
   "execution_count": null,
   "id": "3c30f430",
   "metadata": {},
   "outputs": [],
   "source": [
    "# K-means Labels\n",
    "labels=pd.DataFrame(kmeans.labels_)\n",
    "labels"
   ]
  },
  {
   "cell_type": "code",
   "execution_count": null,
   "id": "93cd4b04",
   "metadata": {},
   "outputs": [],
   "source": [
    "Sum_of_squared_distances = []\n",
    "k = range(1,15)\n",
    "for k in k:\n",
    "    km = KMeans(n_clusters =k)\n",
    "    km = km.fit(dataset)\n",
    "    Sum_of_squared_distances.append(km.inertia_)"
   ]
  },
  {
   "cell_type": "markdown",
   "id": "8413ea7c",
   "metadata": {},
   "source": [
    "# K-means Centroids"
   ]
  },
  {
   "cell_type": "code",
   "execution_count": null,
   "id": "94ed96b3",
   "metadata": {},
   "outputs": [],
   "source": [
    "kmeans.predict(dataset)\n",
    "print(kmeans.cluster_centers_)   #Printing the coordinates of cluster centers."
   ]
  }
 ],
 "metadata": {
  "kernelspec": {
   "display_name": "Python 3",
   "language": "python",
   "name": "python3"
  },
  "language_info": {
   "codemirror_mode": {
    "name": "ipython",
    "version": 3
   },
   "file_extension": ".py",
   "mimetype": "text/x-python",
   "name": "python",
   "nbconvert_exporter": "python",
   "pygments_lexer": "ipython3",
   "version": "3.8.8"
  }
 },
 "nbformat": 4,
 "nbformat_minor": 5
}
